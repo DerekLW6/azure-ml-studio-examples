{
 "cells": [
  {
   "cell_type": "code",
   "execution_count": 1,
   "metadata": {},
   "outputs": [],
   "source": [
    "import pandas as pd\n",
    "import numpy as np\n",
    "import matplotlib.pyplot as plt\n",
    "plt.style.use('ggplot')\n",
    "import seaborn as sns\n",
    "%matplotlib inline\n",
    "\n",
    "import warnings\n",
    "warnings.filterwarnings(\"ignore\")"
   ]
  },
  {
   "cell_type": "code",
   "execution_count": 2,
   "metadata": {},
   "outputs": [
    {
     "data": {
      "text/html": [
       "<div>\n",
       "<style scoped>\n",
       "    .dataframe tbody tr th:only-of-type {\n",
       "        vertical-align: middle;\n",
       "    }\n",
       "\n",
       "    .dataframe tbody tr th {\n",
       "        vertical-align: top;\n",
       "    }\n",
       "\n",
       "    .dataframe thead th {\n",
       "        text-align: right;\n",
       "    }\n",
       "</style>\n",
       "<table border=\"1\" class=\"dataframe\">\n",
       "  <thead>\n",
       "    <tr style=\"text-align: right;\">\n",
       "      <th></th>\n",
       "      <th>id</th>\n",
       "      <th>date</th>\n",
       "      <th>content</th>\n",
       "    </tr>\n",
       "  </thead>\n",
       "  <tbody>\n",
       "    <tr>\n",
       "      <th>0</th>\n",
       "      <td>1698308935</td>\n",
       "      <td>2009-05-04 13:54:25</td>\n",
       "      <td>Be sure to tune in and watch Donald Trump on L...</td>\n",
       "    </tr>\n",
       "    <tr>\n",
       "      <th>1</th>\n",
       "      <td>1701461182</td>\n",
       "      <td>2009-05-04 20:00:10</td>\n",
       "      <td>Donald Trump will be appearing on The View tom...</td>\n",
       "    </tr>\n",
       "    <tr>\n",
       "      <th>2</th>\n",
       "      <td>1737479987</td>\n",
       "      <td>2009-05-08 08:38:08</td>\n",
       "      <td>Donald Trump reads Top Ten Financial Tips on L...</td>\n",
       "    </tr>\n",
       "  </tbody>\n",
       "</table>\n",
       "</div>"
      ],
      "text/plain": [
       "           id                 date  \\\n",
       "0  1698308935  2009-05-04 13:54:25   \n",
       "1  1701461182  2009-05-04 20:00:10   \n",
       "2  1737479987  2009-05-08 08:38:08   \n",
       "\n",
       "                                             content  \n",
       "0  Be sure to tune in and watch Donald Trump on L...  \n",
       "1  Donald Trump will be appearing on The View tom...  \n",
       "2  Donald Trump reads Top Ten Financial Tips on L...  "
      ]
     },
     "execution_count": 2,
     "metadata": {},
     "output_type": "execute_result"
    }
   ],
   "source": [
    "# Reading in/reordering trumps tweets\n",
    "df = pd.read_csv('realdonaldtrump.csv')\n",
    "df_tweets = df[['id', 'date', 'content']]\n",
    "\n",
    "df_tweets.head(3)"
   ]
  },
  {
   "cell_type": "code",
   "execution_count": 3,
   "metadata": {},
   "outputs": [],
   "source": [
    "from nltk.sentiment.vader import SentimentIntensityAnalyzer\n",
    "\n",
    "sid = SentimentIntensityAnalyzer()"
   ]
  },
  {
   "cell_type": "code",
   "execution_count": 4,
   "metadata": {},
   "outputs": [
    {
     "data": {
      "text/html": [
       "<div>\n",
       "<style scoped>\n",
       "    .dataframe tbody tr th:only-of-type {\n",
       "        vertical-align: middle;\n",
       "    }\n",
       "\n",
       "    .dataframe tbody tr th {\n",
       "        vertical-align: top;\n",
       "    }\n",
       "\n",
       "    .dataframe thead th {\n",
       "        text-align: right;\n",
       "    }\n",
       "</style>\n",
       "<table border=\"1\" class=\"dataframe\">\n",
       "  <thead>\n",
       "    <tr style=\"text-align: right;\">\n",
       "      <th></th>\n",
       "      <th>id</th>\n",
       "      <th>date</th>\n",
       "      <th>content</th>\n",
       "      <th>scores</th>\n",
       "      <th>compound</th>\n",
       "      <th>comp_score</th>\n",
       "    </tr>\n",
       "  </thead>\n",
       "  <tbody>\n",
       "    <tr>\n",
       "      <th>0</th>\n",
       "      <td>1698308935</td>\n",
       "      <td>2009-05-04 13:54:25</td>\n",
       "      <td>Be sure to tune in and watch Donald Trump on L...</td>\n",
       "      <td>{'neg': 0.0, 'neu': 0.827, 'pos': 0.173, 'comp...</td>\n",
       "      <td>0.5255</td>\n",
       "      <td>pos</td>\n",
       "    </tr>\n",
       "    <tr>\n",
       "      <th>1</th>\n",
       "      <td>1701461182</td>\n",
       "      <td>2009-05-04 20:00:10</td>\n",
       "      <td>Donald Trump will be appearing on The View tom...</td>\n",
       "      <td>{'neg': 0.0, 'neu': 0.74, 'pos': 0.26, 'compou...</td>\n",
       "      <td>0.7712</td>\n",
       "      <td>pos</td>\n",
       "    </tr>\n",
       "    <tr>\n",
       "      <th>2</th>\n",
       "      <td>1737479987</td>\n",
       "      <td>2009-05-08 08:38:08</td>\n",
       "      <td>Donald Trump reads Top Ten Financial Tips on L...</td>\n",
       "      <td>{'neg': 0.0, 'neu': 0.726, 'pos': 0.274, 'comp...</td>\n",
       "      <td>0.6468</td>\n",
       "      <td>pos</td>\n",
       "    </tr>\n",
       "    <tr>\n",
       "      <th>3</th>\n",
       "      <td>1741160716</td>\n",
       "      <td>2009-05-08 15:40:15</td>\n",
       "      <td>New Blog Post: Celebrity Apprentice Finale and...</td>\n",
       "      <td>{'neg': 0.0, 'neu': 1.0, 'pos': 0.0, 'compound...</td>\n",
       "      <td>0.0000</td>\n",
       "      <td>pos</td>\n",
       "    </tr>\n",
       "    <tr>\n",
       "      <th>4</th>\n",
       "      <td>1773561338</td>\n",
       "      <td>2009-05-12 09:07:28</td>\n",
       "      <td>\"My persona will never be that of a wallflower...</td>\n",
       "      <td>{'neg': 0.0, 'neu': 1.0, 'pos': 0.0, 'compound...</td>\n",
       "      <td>0.0000</td>\n",
       "      <td>pos</td>\n",
       "    </tr>\n",
       "  </tbody>\n",
       "</table>\n",
       "</div>"
      ],
      "text/plain": [
       "           id                 date  \\\n",
       "0  1698308935  2009-05-04 13:54:25   \n",
       "1  1701461182  2009-05-04 20:00:10   \n",
       "2  1737479987  2009-05-08 08:38:08   \n",
       "3  1741160716  2009-05-08 15:40:15   \n",
       "4  1773561338  2009-05-12 09:07:28   \n",
       "\n",
       "                                             content  \\\n",
       "0  Be sure to tune in and watch Donald Trump on L...   \n",
       "1  Donald Trump will be appearing on The View tom...   \n",
       "2  Donald Trump reads Top Ten Financial Tips on L...   \n",
       "3  New Blog Post: Celebrity Apprentice Finale and...   \n",
       "4  \"My persona will never be that of a wallflower...   \n",
       "\n",
       "                                              scores  compound comp_score  \n",
       "0  {'neg': 0.0, 'neu': 0.827, 'pos': 0.173, 'comp...    0.5255        pos  \n",
       "1  {'neg': 0.0, 'neu': 0.74, 'pos': 0.26, 'compou...    0.7712        pos  \n",
       "2  {'neg': 0.0, 'neu': 0.726, 'pos': 0.274, 'comp...    0.6468        pos  \n",
       "3  {'neg': 0.0, 'neu': 1.0, 'pos': 0.0, 'compound...    0.0000        pos  \n",
       "4  {'neg': 0.0, 'neu': 1.0, 'pos': 0.0, 'compound...    0.0000        pos  "
      ]
     },
     "execution_count": 4,
     "metadata": {},
     "output_type": "execute_result"
    }
   ],
   "source": [
    "# Getting the vader score\n",
    "df_tweets['scores'] = df_tweets['content'].apply(lambda review: sid.polarity_scores(review))\n",
    "\n",
    "# Extracting the compound score\n",
    "df_tweets['compound']  = df_tweets['scores'].apply(lambda score_dict: score_dict['compound'])\n",
    "\n",
    "# Labl\n",
    "df_tweets['comp_score'] = df_tweets['compound'].apply(lambda c: 'pos' if c >=0 else 'neg')\n",
    "df_tweets.head()"
   ]
  },
  {
   "cell_type": "code",
   "execution_count": 5,
   "metadata": {},
   "outputs": [
    {
     "data": {
      "image/png": "[encoded data removed]",
      "text/plain": [
       "<Figure size 720x432 with 1 Axes>"
      ]
     },
     "metadata": {
      "needs_background": "light"
     },
     "output_type": "display_data"
    }
   ],
   "source": [
    "# Count of Negative vs Positive Tweets\n",
    "plt.figure(figsize=(10,6))\n",
    "ax = sns.countplot(x=\"comp_score\", data=df_tweets)"
   ]
  },
  {
   "cell_type": "code",
   "execution_count": null,
   "metadata": {},
   "outputs": [],
   "source": []
  }
 ],
 "metadata": {
  "kernelspec": {
   "display_name": "Python 3",
   "language": "python",
   "name": "python3"
  },
  "language_info": {
   "codemirror_mode": {
    "name": "ipython",
    "version": 3
   },
   "file_extension": ".py",
   "mimetype": "text/x-python",
   "name": "python",
   "nbconvert_exporter": "python",
   "pygments_lexer": "ipython3",
   "version": "3.8.3"
  }
 },
 "nbformat": 4,
 "nbformat_minor": 4
}
